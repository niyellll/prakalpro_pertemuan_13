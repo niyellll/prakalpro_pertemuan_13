{
 "cells": [
  {
   "cell_type": "markdown",
   "metadata": {},
   "source": [
    "Latihan 12.1 Dari contoh kasus kategori kasus di Play Store, tambahkan kemampuan-kemampuan\n",
    "berikut ini:\n",
    "• Tampilkan nama-nama aplikasi yang hanya muncul di satu kategori saja.\n",
    "• Untuk input n>2, tampilkan nama-nama aplikasi yang muncul tepat di dua kategori\n",
    "sekaligus"
   ]
  },
  {
   "cell_type": "code",
   "execution_count": 2,
   "metadata": {},
   "outputs": [
    {
     "name": "stdout",
     "output_type": "stream",
     "text": [
      "Aplikasi yang hanya muncul di satu kategori: {'Angry Bird', 'Facebook', 'Twitter', 'Google Docs', 'Trello', 'Canva', 'Pinterest', 'Brawl Star', 'Rush Riyale', 'PUBG', 'Lightroom', 'Whatapp', 'Evernote', 'Candy crush', 'Telegram', 'Instagram', 'Slack', 'VSCO'}\n",
      "Aplikasi yang muncul tepat di dua kategori: {'Snapchat'}\n"
     ]
    }
   ],
   "source": [
    "def aplikasi_1_kategori(data_aplikasi):\n",
    "    frekuensi = {}\n",
    "    for aplikasi in data_aplikasi.values():\n",
    "        for app in aplikasi:\n",
    "            frekuensi[app] = frekuensi.get(app, 0) + 1\n",
    "    \n",
    "    aplikasi_satu_kategori = {app for app, count in frekuensi.items() if count == 1}\n",
    "    print(\"Aplikasi yang hanya muncul di satu kategori:\", aplikasi_satu_kategori)\n",
    "\n",
    "def aplikasi_2_kategori(data_aplikasi):\n",
    "    frekuensi = {}\n",
    "    for aplikasi in data_aplikasi.values():\n",
    "        for app in aplikasi:\n",
    "            frekuensi[app] = frekuensi.get(app, 0) + 1\n",
    "    \n",
    "    aplikasi_dua_kategori = {app for app, count in frekuensi.items() if count == 2}\n",
    "    print(\"Aplikasi yang muncul tepat di dua kategori:\", aplikasi_dua_kategori)\n",
    "\n",
    "n = int(input(\"Masukkan jumlah kategori: \"))\n",
    "\n",
    "data_aplikasi = {}\n",
    "for _ in range(n):\n",
    "    nama_kategori = input('Masukkan nama kategori: ')\n",
    "    aplikasi = [input(f'Masukkan nama aplikasi ke-{i+1} di kategori {nama_kategori}: ') for i in range(5)]\n",
    "    data_aplikasi[nama_kategori] = aplikasi\n",
    "\n",
    "aplikasi_1_kategori(data_aplikasi)\n",
    "aplikasi_2_kategori(data_aplikasi)\n"
   ]
  },
  {
   "cell_type": "markdown",
   "metadata": {},
   "source": [
    "Latihan 12.2 Buatlah sebuah program yang mendemonstrasikan konversi dari:\n",
    "• List menjadi Set\n",
    "• Set menjadi List\n",
    "• Tuple menjadi Set\n",
    "• Set menjadi Tuple\n",
    "Tampilkan isi data sebelum dan sesudah konversi."
   ]
  },
  {
   "cell_type": "code",
   "execution_count": 5,
   "metadata": {},
   "outputs": [
    {
     "name": "stdout",
     "output_type": "stream",
     "text": [
      "List sebelum konversi: [1, 2, 2, 3, 4, 4, 5]\n",
      "Set setelah konversi dari List: {1, 2, 3, 4, 5}\n",
      "\n",
      "Set sebelum konversi: {1, 2, 3, 4, 5}\n",
      "List setelah konversi dari Set: [1, 2, 3, 4, 5]\n",
      "\n",
      "Tuple sebelum konversi: (1, 2, 2, 3, 4, 4, 5)\n",
      "Set setelah konversi dari Tuple: {1, 2, 3, 4, 5}\n",
      "\n",
      "Set sebelum konversi: {1, 2, 3, 4, 5}\n",
      "Tuple setelah konversi dari Set: (1, 2, 3, 4, 5)\n"
     ]
    }
   ],
   "source": [
    "# List menjadi Set\n",
    "list_data = [1, 2, 2, 3, 4, 4, 5]\n",
    "print(\"List sebelum konversi:\", list_data)\n",
    "set_from_list = set(list_data)\n",
    "print(\"Set setelah konversi dari List:\", set_from_list)\n",
    "\n",
    "# Set menjadi List\n",
    "set_data = {1, 2, 3, 4, 5}\n",
    "print(\"\\nSet sebelum konversi:\", set_data)\n",
    "list_from_set = list(set_data)\n",
    "print(\"List setelah konversi dari Set:\", list_from_set)\n",
    "\n",
    "# Tuple menjadi Set\n",
    "tuple_data = (1, 2, 2, 3, 4, 4, 5)\n",
    "print(\"\\nTuple sebelum konversi:\", tuple_data)\n",
    "set_from_tuple = set(tuple_data)\n",
    "print(\"Set setelah konversi dari Tuple:\", set_from_tuple)\n",
    "\n",
    "# Set menjadi Tuple\n",
    "set_data_2 = {1, 2, 3, 4, 5}\n",
    "print(\"\\nSet sebelum konversi:\", set_data_2)\n",
    "tuple_from_set = tuple(set_data_2)\n",
    "print(\"Tuple setelah konversi dari Set:\", tuple_from_set)\n"
   ]
  },
  {
   "cell_type": "markdown",
   "metadata": {},
   "source": [
    " Buatlah sebuah program yang dapat membaca dua file teks dan menampilkan\n",
    "semua kata-kata yang muncul pada kedua file tersebut. Beberapa hal yang perlu anda perhatikan:\n",
    "• Nama file adalah input user. Tampilkan pesan error jika file tidak ditemukan/tidak bisa\n",
    "dibaca.\n",
    "• Semua kata dikonversi dulu menjadi lowercase.\n",
    "• Sertakan contoh file teks yang anda pakai saat mengumpulkan laporan"
   ]
  },
  {
   "cell_type": "code",
   "execution_count": 9,
   "metadata": {},
   "outputs": [
    {
     "name": "stdout",
     "output_type": "stream",
     "text": [
      "Kata-kata yang muncul pada kedua file:\n",
      "kesal\n",
      "aku\n",
      "dengan\n",
      "yang\n",
      "bisa\n"
     ]
    }
   ],
   "source": [
    "def baca_file(nama_file):\n",
    "    with open(nama_file, 'r') as file:\n",
    "        return set(file.read().lower().split())\n",
    "\n",
    "def main():\n",
    "    file1 = input(\"Masukkan nama file teks pertama (file1.txt): \")\n",
    "    file2 = input(\"Masukkan nama file teks kedua (file2.txt): \")\n",
    "\n",
    "    kata_file1 = baca_file(file1)\n",
    "    kata_file2 = baca_file(file2)\n",
    "\n",
    "    kata_bersama = kata_file1.intersection(kata_file2)\n",
    "    if kata_bersama:\n",
    "        print(\"Kata-kata yang muncul pada kedua file:\")\n",
    "        print(\"\\n\".join(kata_bersama))\n",
    "    else:\n",
    "        print(\"Tidak ada kata yang muncul pada kedua file.\")\n",
    "\n",
    "if __name__ == \"__main__\":\n",
    "    main()\n"
   ]
  }
 ],
 "metadata": {
  "kernelspec": {
   "display_name": "Python 3",
   "language": "python",
   "name": "python3"
  },
  "language_info": {
   "codemirror_mode": {
    "name": "ipython",
    "version": 3
   },
   "file_extension": ".py",
   "mimetype": "text/x-python",
   "name": "python",
   "nbconvert_exporter": "python",
   "pygments_lexer": "ipython3",
   "version": "3.12.0"
  }
 },
 "nbformat": 4,
 "nbformat_minor": 2
}
